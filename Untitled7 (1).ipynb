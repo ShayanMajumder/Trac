{
 "cells": [
  {
   "cell_type": "code",
   "execution_count": 1,
   "metadata": {},
   "outputs": [],
   "source": [
    "import h5py\n"
   ]
  },
  {
   "cell_type": "code",
   "execution_count": 2,
   "metadata": {},
   "outputs": [],
   "source": [
    "filename = \"L-L1_GWOSC_O2_4KHZ_R1-1164689408-4096.hdf5\"\n",
    "f = h5py.File(filename, 'r')"
   ]
  },
  {
   "cell_type": "code",
   "execution_count": 3,
   "metadata": {},
   "outputs": [
    {
     "data": {
      "text/plain": [
       "['meta', 'quality', 'strain']"
      ]
     },
     "execution_count": 3,
     "metadata": {},
     "output_type": "execute_result"
    }
   ],
   "source": [
    "list(f.keys())"
   ]
  },
  {
   "cell_type": "code",
   "execution_count": 4,
   "metadata": {},
   "outputs": [
    {
     "name": "stdout",
     "output_type": "stream",
     "text": [
      "Description    =    b'Strain data time series from LIGO'\n",
      "DescriptionURL    =    b'http://www.gw-openscience.org/'\n",
      "Detector    =    b'L1'\n",
      "Duration    =    4096\n",
      "FrameType    =    L1_CLEANED_HOFT_C02\n",
      "GPSstart    =    1164689408\n",
      "Observatory    =    b'L'\n",
      "StrainChannel    =    L1:DCH-CLEAN_STRAIN_C02\n",
      "Type    =    b'StrainTimeSeries'\n",
      "UTCstart    =    b'2016-12-02T04:49:51'\n"
     ]
    }
   ],
   "source": [
    "for i in f['meta']:\n",
    "    print(i,\"   =   \",str(f['meta/'+i][()]))"
   ]
  },
  {
   "cell_type": "code",
   "execution_count": 5,
   "metadata": {},
   "outputs": [
    {
     "name": "stdout",
     "output_type": "stream",
     "text": [
      "detail\n",
      "injections\n",
      "simple\n"
     ]
    }
   ],
   "source": [
    "for i in f['quality']:\n",
    "    print(i)"
   ]
  },
  {
   "cell_type": "code",
   "execution_count": 6,
   "metadata": {},
   "outputs": [
    {
     "name": "stdout",
     "output_type": "stream",
     "text": [
      "GWOSCmeta\n",
      "Strain\n"
     ]
    }
   ],
   "source": [
    "for i in f['strain']:\n",
    "    print(i)"
   ]
  },
  {
   "cell_type": "code",
   "execution_count": 134,
   "metadata": {},
   "outputs": [
    {
     "data": {
      "text/plain": [
       "b'GWOSC-4KHZ_R1_STRAIN'"
      ]
     },
     "execution_count": 134,
     "metadata": {},
     "output_type": "execute_result"
    }
   ],
   "source": [
    "f['strain/GWOSCmeta'][()]"
   ]
  },
  {
   "cell_type": "code",
   "execution_count": 174,
   "metadata": {},
   "outputs": [
    {
     "name": "stdout",
     "output_type": "stream",
     "text": [
      "-2.012991038259634e-18\n",
      "-2.6343155852303222e-18\n",
      "-2.6439362869121887e-18\n",
      "-2.1423943258310287e-18\n",
      "-1.4674157368630475e-18\n",
      "-9.21283339340593e-19\n",
      "-8.146014136981423e-19\n",
      "-1.3178047406134433e-18\n",
      "-2.159509189305259e-18\n"
     ]
    }
   ],
   "source": [
    "for i in f['strain/Strain'][1:10]:#to see if the data has been extracted\n",
    "    print(i)"
   ]
  },
  {
   "cell_type": "code",
   "execution_count": 90,
   "metadata": {},
   "outputs": [],
   "source": [
    "import matplotlib\n",
    "import matplotlib\n",
    "import numpy as np\n",
    "import pylab"
   ]
  },
  {
   "cell_type": "code",
   "execution_count": 10,
   "metadata": {},
   "outputs": [],
   "source": [
    "a=f['strain/Strain']"
   ]
  },
  {
   "cell_type": "code",
   "execution_count": 30,
   "metadata": {},
   "outputs": [
    {
     "name": "stdout",
     "output_type": "stream",
     "text": [
      "4096\n",
      "16777216\n"
     ]
    }
   ],
   "source": [
    "print(f['meta/Duration'][()])\n",
    "print(len(a))\n"
   ]
  },
  {
   "cell_type": "code",
   "execution_count": 31,
   "metadata": {},
   "outputs": [
    {
     "data": {
      "text/plain": [
       "0.000244140625"
      ]
     },
     "execution_count": 31,
     "metadata": {},
     "output_type": "execute_result"
    }
   ],
   "source": [
    "Time=4096/16777216\n",
    "Time"
   ]
  },
  {
   "cell_type": "code",
   "execution_count": 75,
   "metadata": {},
   "outputs": [
    {
     "name": "stdout",
     "output_type": "stream",
     "text": [
      "4096\n"
     ]
    },
    {
     "data": {
      "text/plain": [
       "16777216"
      ]
     },
     "execution_count": 75,
     "metadata": {},
     "output_type": "execute_result"
    }
   ],
   "source": [
    "freq=1/Time\n",
    "freq=int(freq)\n",
    "print(freq)#sampleing freq\n",
    "x=np.arange(0,4096,Time)\n",
    "len(x)"
   ]
  },
  {
   "cell_type": "code",
   "execution_count": 91,
   "metadata": {},
   "outputs": [
    {
     "data": {
      "image/png": "[encoded data removed]",
      "text/plain": [
       "<Figure size 432x288 with 1 Axes>"
      ]
     },
     "metadata": {
      "needs_background": "light"
     },
     "output_type": "display_data"
    }
   ],
   "source": [
    "import matplotlib.pyplot as plt\n",
    "plt.plot(x,f['strain/Strain'])\n",
    "plt.ylabel('amplitude')\n",
    "plt.xlabel('Seconds starting from GPS time='+str(f['meta/GPSstart'][()]))\n",
    "plt.show()\n"
   ]
  },
  {
   "cell_type": "code",
   "execution_count": 87,
   "metadata": {},
   "outputs": [],
   "source": [
    "from scipy import signal"
   ]
  },
  {
   "cell_type": "code",
   "execution_count": 147,
   "metadata": {},
   "outputs": [],
   "source": [
    "spectra, freqs =matplotlib.mlab.psd(x=f['strain/Strain'], NFFT=4*4096, Fs=4096, detrend=None, window=None, noverlap=None, pad_to=None, sides=\"twosided\", scale_by_freq=None)"
   ]
  },
  {
   "cell_type": "code",
   "execution_count": 170,
   "metadata": {},
   "outputs": [
    {
     "data": {
      "text/plain": [
       "[]"
      ]
     },
     "execution_count": 170,
     "metadata": {},
     "output_type": "execute_result"
    },
    {
     "data": {
      "image/png": "[encoded data removed]",
      "text/plain": [
       "<Figure size 432x288 with 1 Axes>"
      ]
     },
     "metadata": {
      "needs_background": "light"
     },
     "output_type": "display_data"
    }
   ],
   "source": [
    "pylab.loglog(freqs,numpy.sqrt(spectra),\"g.\")\n",
    "pylab.xlabel(\"Frequency [Hz]\")\n",
    "pylab.ylabel(\"$\\sqrt{S(f)}$\" + \"$ [ 1/\\sqrt{Hz}  ] $\")\n",
    "pylab.plot()\n"
   ]
  },
  {
   "cell_type": "code",
   "execution_count": null,
   "metadata": {},
   "outputs": [],
   "source": []
  }
 ],
 "metadata": {
  "kernelspec": {
   "display_name": "Python 3",
   "language": "python",
   "name": "python3"
  },
  "language_info": {
   "codemirror_mode": {
    "name": "ipython",
    "version": 3
   },
   "file_extension": ".py",
   "mimetype": "text/x-python",
   "name": "python",
   "nbconvert_exporter": "python",
   "pygments_lexer": "ipython3",
   "version": "3.8.2"
  }
 },
 "nbformat": 4,
 "nbformat_minor": 4
}
